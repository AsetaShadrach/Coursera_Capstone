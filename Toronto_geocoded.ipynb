{
 "metadata": {
  "language_info": {
   "codemirror_mode": {
    "name": "ipython",
    "version": 3
   },
   "file_extension": ".py",
   "mimetype": "text/x-python",
   "name": "python",
   "nbconvert_exporter": "python",
   "pygments_lexer": "ipython3",
   "version": "3.7.4-final"
  },
  "orig_nbformat": 2,
  "kernelspec": {
   "name": "python374jvsc74a57bd03bc81eff3f7349fb5c9010b3f98278c4de2e0aa5a877fb2184178b843625e416",
   "display_name": "Python 3.7.4 64-bit (conda)"
  }
 },
 "nbformat": 4,
 "nbformat_minor": 2,
 "cells": [
  {
   "cell_type": "code",
   "execution_count": 1,
   "metadata": {},
   "outputs": [],
   "source": [
    "import pandas as pd\n",
    "from bs4 import BeautifulSoup\n",
    "import urllib.request,urllib.parse , requests\n",
    "import re \n",
    "import geocoder"
   ]
  },
  {
   "source": [
    "- Read the table data from wikipedia using BeautifulSoup and convert it to a dataframe using `pd.read_html` \n",
    "\n",
    "- Create a dictionary and loop through all cells and use `regex` to extract the data for the necessary columns since each cell has data in text fomart\n",
    "- First 3 letters are the **PostalCode**\n",
    "- **Boroughs** are the next letters before the bracket\n",
    "- **Neighbourhoods** are inside the brackets\n",
    "- Replace the slashes with commas and set the Neighbourhoods as one string"
   ],
   "cell_type": "markdown",
   "metadata": {}
  },
  {
   "cell_type": "code",
   "execution_count": 2,
   "metadata": {},
   "outputs": [],
   "source": [
    "url = \"https://en.wikipedia.org/wiki/List_of_postal_codes_of_Canada:_M\"\n",
    "data = urllib.request.urlopen(url).read()\n",
    "soup = BeautifulSoup(data,'lxml')\n",
    "soup_data = soup.find_all('table')\n",
    "\n",
    "df = pd.read_html(str(soup_data))[0]\n",
    "\n",
    "data_dict = {\n",
    "    'PostalCode':[],\n",
    "    'Borough':[],\n",
    "    'Neighborhood':[]\n",
    "    }\n",
    "\n",
    "for i in range(len(df.columns)):\n",
    "    for j in range(len(df)):\n",
    "        postal_code = df[i][j][0:3]\n",
    "        borough = re.findall('^[^\\(]+',df[i][j][3:] )[0] \n",
    "        if borough != 'Not assigned':\n",
    "            neighborhoods = re.findall('(?<=[(])[^\\)]+',df[i][j][3:])[0].split(' / ')\n",
    "            data_dict['PostalCode'].append(postal_code)\n",
    "            data_dict['Borough'].append(borough)\n",
    "            data_dict['Neighborhood'].append(','.join(neighborhoods)) # concat all the list elements into one string\n",
    "\n",
    "dataframe = pd.DataFrame(data_dict)"
   ]
  },
  {
   "source": [
    "We will download the **GeoSpatialDataset.csv** file and concat it with the wikipedia data to get all geodata for all available postal codes"
   ],
   "cell_type": "markdown",
   "metadata": {}
  },
  {
   "cell_type": "code",
   "execution_count": 3,
   "metadata": {},
   "outputs": [
    {
     "output_type": "execute_result",
     "data": {
      "text/plain": [
       "  PostalCode      Borough                          Neighborhood   Latitude  \\\n",
       "0        M1B  Scarborough                         Malvern,Rouge  43.806686   \n",
       "1        M1C  Scarborough  Rouge Hill,Port Union,Highland Creek  43.784535   \n",
       "2        M1E  Scarborough       Guildwood,Morningside,West Hill  43.763573   \n",
       "3        M1G  Scarborough                                Woburn  43.770992   \n",
       "4        M1H  Scarborough                             Cedarbrae  43.773136   \n",
       "\n",
       "   Longitude  \n",
       "0 -79.194353  \n",
       "1 -79.160497  \n",
       "2 -79.188711  \n",
       "3 -79.216917  \n",
       "4 -79.239476  "
      ],
      "text/html": "<div>\n<style scoped>\n    .dataframe tbody tr th:only-of-type {\n        vertical-align: middle;\n    }\n\n    .dataframe tbody tr th {\n        vertical-align: top;\n    }\n\n    .dataframe thead th {\n        text-align: right;\n    }\n</style>\n<table border=\"1\" class=\"dataframe\">\n  <thead>\n    <tr style=\"text-align: right;\">\n      <th></th>\n      <th>PostalCode</th>\n      <th>Borough</th>\n      <th>Neighborhood</th>\n      <th>Latitude</th>\n      <th>Longitude</th>\n    </tr>\n  </thead>\n  <tbody>\n    <tr>\n      <th>0</th>\n      <td>M1B</td>\n      <td>Scarborough</td>\n      <td>Malvern,Rouge</td>\n      <td>43.806686</td>\n      <td>-79.194353</td>\n    </tr>\n    <tr>\n      <th>1</th>\n      <td>M1C</td>\n      <td>Scarborough</td>\n      <td>Rouge Hill,Port Union,Highland Creek</td>\n      <td>43.784535</td>\n      <td>-79.160497</td>\n    </tr>\n    <tr>\n      <th>2</th>\n      <td>M1E</td>\n      <td>Scarborough</td>\n      <td>Guildwood,Morningside,West Hill</td>\n      <td>43.763573</td>\n      <td>-79.188711</td>\n    </tr>\n    <tr>\n      <th>3</th>\n      <td>M1G</td>\n      <td>Scarborough</td>\n      <td>Woburn</td>\n      <td>43.770992</td>\n      <td>-79.216917</td>\n    </tr>\n    <tr>\n      <th>4</th>\n      <td>M1H</td>\n      <td>Scarborough</td>\n      <td>Cedarbrae</td>\n      <td>43.773136</td>\n      <td>-79.239476</td>\n    </tr>\n  </tbody>\n</table>\n</div>"
     },
     "metadata": {},
     "execution_count": 3
    }
   ],
   "source": [
    "url = 'https://cf-courses-data.s3.us.cloud-object-storage.appdomain.cloud/IBMDeveloperSkillsNetwork-DS0701EN-SkillsNetwork/labs_v1/Geospatial_Coordinates.csv'\n",
    "\n",
    "r = requests.get(url, allow_redirects=True)\n",
    "open('GeoSpatialDataset.csv', 'wb').write(r.content)\n",
    "\n",
    "geodata = pd.read_csv('GeoSpatialDataset.csv')\n",
    "geodata = geodata.rename(columns = {'Postal Code':'PostalCode'})\n",
    "full_data = pd.merge(dataframe,geodata ,on='PostalCode')\n",
    "full_data.head()"
   ]
  },
  {
   "cell_type": "code",
   "execution_count": null,
   "metadata": {},
   "outputs": [],
   "source": []
  }
 ]
}