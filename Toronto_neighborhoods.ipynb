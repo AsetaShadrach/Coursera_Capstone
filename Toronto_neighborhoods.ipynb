{
 "metadata": {
  "language_info": {
   "codemirror_mode": {
    "name": "ipython",
    "version": 3
   },
   "file_extension": ".py",
   "mimetype": "text/x-python",
   "name": "python",
   "nbconvert_exporter": "python",
   "pygments_lexer": "ipython3",
   "version": "3.7.4-final"
  },
  "orig_nbformat": 2,
  "kernelspec": {
   "name": "python374jvsc74a57bd03bc81eff3f7349fb5c9010b3f98278c4de2e0aa5a877fb2184178b843625e416",
   "display_name": "Python 3.7.4 64-bit (conda)"
  }
 },
 "nbformat": 4,
 "nbformat_minor": 2,
 "cells": [
  {
   "cell_type": "code",
   "execution_count": 1,
   "metadata": {},
   "outputs": [],
   "source": [
    "import pandas as pd\n",
    "from bs4 import BeautifulSoup\n",
    "import urllib.request,urllib.parse \n",
    "import re "
   ]
  },
  {
   "source": [
    "Read the table data from wikipedia using BeautifulSoup and convert it to a dataframe using `pd.read_html` "
   ],
   "cell_type": "markdown",
   "metadata": {}
  },
  {
   "cell_type": "code",
   "execution_count": 2,
   "metadata": {},
   "outputs": [],
   "source": [
    "url = \"https://en.wikipedia.org/wiki/List_of_postal_codes_of_Canada:_M\"\n",
    "data = urllib.request.urlopen(url).read()\n",
    "soup = BeautifulSoup(data,'lxml')\n",
    "soup_data = soup.find_all('table')\n",
    "\n",
    "df = pd.read_html(str(soup_data))[0]"
   ]
  },
  {
   "source": [
    "- Create a dictionary and loop through all cells and use `regex` to extract the data for the necessary columns since each cell has data in text fomart\n",
    "- First 3 letters are the **PostalCode**\n",
    "- **Boroughs** are the next letters before the bracket\n",
    "- **Neighbourhoods** are inside the brackets\n",
    "- Replace the slashes with commas and set the Neighbourhoods as one string"
   ],
   "cell_type": "markdown",
   "metadata": {}
  },
  {
   "cell_type": "code",
   "execution_count": 3,
   "metadata": {},
   "outputs": [],
   "source": [
    "data_dict = {\n",
    "    'PostalCode':[],\n",
    "    'Borough':[],\n",
    "    'Neighborhood':[]\n",
    "    }\n",
    "\n",
    "for i in range(len(df.columns)):\n",
    "    for j in range(len(df)):\n",
    "        postal_code = df[i][j][0:3]\n",
    "        borough = re.findall('^[^\\(]+',df[i][j][3:] )[0] \n",
    "        if borough != 'Not assigned':\n",
    "            neighborhoods = re.findall('(?<=[(])[^\\)]+',df[i][j][3:])[0].split(' / ')\n",
    "            data_dict['PostalCode'].append(postal_code)\n",
    "            data_dict['Borough'].append(borough)\n",
    "            data_dict['Neighborhood'].append(','.join(neighborhoods)) # concat all the list elements into one string\n",
    "\n",
    "dataframe = pd.DataFrame(data_dict)"
   ]
  },
  {
   "cell_type": "code",
   "execution_count": 4,
   "metadata": {},
   "outputs": [
    {
     "output_type": "execute_result",
     "data": {
      "text/plain": [
       "  PostalCode      Borough                               Neighborhood\n",
       "0        M1B  Scarborough                              Malvern,Rouge\n",
       "1        M1C  Scarborough       Rouge Hill,Port Union,Highland Creek\n",
       "2        M1E  Scarborough            Guildwood,Morningside,West Hill\n",
       "3        M1G  Scarborough                                     Woburn\n",
       "4        M1H  Scarborough                                  Cedarbrae\n",
       "5        M1J  Scarborough                        Scarborough Village\n",
       "6        M1K  Scarborough  Kennedy Park,Ionview,East Birchmount Park"
      ],
      "text/html": "<div>\n<style scoped>\n    .dataframe tbody tr th:only-of-type {\n        vertical-align: middle;\n    }\n\n    .dataframe tbody tr th {\n        vertical-align: top;\n    }\n\n    .dataframe thead th {\n        text-align: right;\n    }\n</style>\n<table border=\"1\" class=\"dataframe\">\n  <thead>\n    <tr style=\"text-align: right;\">\n      <th></th>\n      <th>PostalCode</th>\n      <th>Borough</th>\n      <th>Neighborhood</th>\n    </tr>\n  </thead>\n  <tbody>\n    <tr>\n      <th>0</th>\n      <td>M1B</td>\n      <td>Scarborough</td>\n      <td>Malvern,Rouge</td>\n    </tr>\n    <tr>\n      <th>1</th>\n      <td>M1C</td>\n      <td>Scarborough</td>\n      <td>Rouge Hill,Port Union,Highland Creek</td>\n    </tr>\n    <tr>\n      <th>2</th>\n      <td>M1E</td>\n      <td>Scarborough</td>\n      <td>Guildwood,Morningside,West Hill</td>\n    </tr>\n    <tr>\n      <th>3</th>\n      <td>M1G</td>\n      <td>Scarborough</td>\n      <td>Woburn</td>\n    </tr>\n    <tr>\n      <th>4</th>\n      <td>M1H</td>\n      <td>Scarborough</td>\n      <td>Cedarbrae</td>\n    </tr>\n    <tr>\n      <th>5</th>\n      <td>M1J</td>\n      <td>Scarborough</td>\n      <td>Scarborough Village</td>\n    </tr>\n    <tr>\n      <th>6</th>\n      <td>M1K</td>\n      <td>Scarborough</td>\n      <td>Kennedy Park,Ionview,East Birchmount Park</td>\n    </tr>\n  </tbody>\n</table>\n</div>"
     },
     "metadata": {},
     "execution_count": 4
    }
   ],
   "source": [
    "dataframe.head(7)"
   ]
  },
  {
   "cell_type": "code",
   "execution_count": 5,
   "metadata": {},
   "outputs": [
    {
     "output_type": "execute_result",
     "data": {
      "text/plain": [
       "(103, 3)"
      ]
     },
     "metadata": {},
     "execution_count": 5
    }
   ],
   "source": [
    "dataframe.shape"
   ]
  },
  {
   "cell_type": "code",
   "execution_count": null,
   "metadata": {},
   "outputs": [],
   "source": []
  }
 ]
}